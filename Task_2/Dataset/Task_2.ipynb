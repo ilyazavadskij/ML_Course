{
 "cells": [
  {
   "cell_type": "code",
   "execution_count": 17,
   "metadata": {},
   "outputs": [],
   "source": [
    "import pandas as pd\n",
    "import numpy as np\n",
    "import scipy.sparse as scp\n",
    "\n",
    "from matplotlib import pyplot as plt\n",
    "%matplotlib inline\n",
    "\n",
    "from tqdm import tqdm"
   ]
  },
  {
   "cell_type": "code",
   "execution_count": 18,
   "metadata": {},
   "outputs": [],
   "source": [
    "column_names = ['user_id', 'film_rating', 'film_id']"
   ]
  },
  {
   "cell_type": "code",
   "execution_count": 19,
   "metadata": {},
   "outputs": [],
   "source": [
    "row_number = 20352\n",
    "data = pd.read_csv('netflix_prize.csv', header=None, names=column_names, nrows=row_number)"
   ]
  },
  {
   "cell_type": "code",
   "execution_count": 20,
   "metadata": {},
   "outputs": [
    {
     "data": {
      "text/html": [
       "<div>\n",
       "<style scoped>\n",
       "    .dataframe tbody tr th:only-of-type {\n",
       "        vertical-align: middle;\n",
       "    }\n",
       "\n",
       "    .dataframe tbody tr th {\n",
       "        vertical-align: top;\n",
       "    }\n",
       "\n",
       "    .dataframe thead th {\n",
       "        text-align: right;\n",
       "    }\n",
       "</style>\n",
       "<table border=\"1\" class=\"dataframe\">\n",
       "  <thead>\n",
       "    <tr style=\"text-align: right;\">\n",
       "      <th></th>\n",
       "      <th>user_id</th>\n",
       "      <th>film_rating</th>\n",
       "      <th>film_id</th>\n",
       "    </tr>\n",
       "  </thead>\n",
       "  <tbody>\n",
       "    <tr>\n",
       "      <th>0</th>\n",
       "      <td>1488844</td>\n",
       "      <td>3</td>\n",
       "      <td>1</td>\n",
       "    </tr>\n",
       "    <tr>\n",
       "      <th>1</th>\n",
       "      <td>822109</td>\n",
       "      <td>5</td>\n",
       "      <td>1</td>\n",
       "    </tr>\n",
       "    <tr>\n",
       "      <th>2</th>\n",
       "      <td>885013</td>\n",
       "      <td>4</td>\n",
       "      <td>1</td>\n",
       "    </tr>\n",
       "    <tr>\n",
       "      <th>3</th>\n",
       "      <td>30878</td>\n",
       "      <td>4</td>\n",
       "      <td>1</td>\n",
       "    </tr>\n",
       "    <tr>\n",
       "      <th>4</th>\n",
       "      <td>823519</td>\n",
       "      <td>3</td>\n",
       "      <td>1</td>\n",
       "    </tr>\n",
       "  </tbody>\n",
       "</table>\n",
       "</div>"
      ],
      "text/plain": [
       "   user_id  film_rating  film_id\n",
       "0  1488844            3        1\n",
       "1   822109            5        1\n",
       "2   885013            4        1\n",
       "3    30878            4        1\n",
       "4   823519            3        1"
      ]
     },
     "execution_count": 20,
     "metadata": {},
     "output_type": "execute_result"
    }
   ],
   "source": [
    "data.head()"
   ]
  },
  {
   "cell_type": "markdown",
   "metadata": {},
   "source": [
    "## Encoding"
   ]
  },
  {
   "cell_type": "code",
   "execution_count": null,
   "metadata": {},
   "outputs": [],
   "source": [
    "from scipy.sparse import hstack\n",
    "from scipy.sparse import diags\n",
    "\n",
    "from sklearn.preprocessing import OneHotEncoder\n",
    "from sklearn.utils import shuffle"
   ]
  },
  {
   "cell_type": "code",
   "execution_count": null,
   "metadata": {},
   "outputs": [],
   "source": [
    "encoder = OneHotEncoder(categories=\"auto\")\n",
    "\n",
    "film_matrix = encoder.fit_transform(np.asarray(data['film_id']).reshape(-1,1))\n",
    "user_matrix = encoder.fit_transform(np.asarray(data['user_id']).reshape(-1,1))"
   ]
  },
  {
   "cell_type": "code",
   "execution_count": null,
   "metadata": {},
   "outputs": [],
   "source": [
    "ones = np.ones(shape=(row_number, 1))\n",
    "X = hstack([ones, user_matrix, film_matrix]).tocsr()\n",
    "y = np.asarray(data['film_rating']).reshape(-1,1)\n",
    "\n",
    "X, y = shuffle(X,y)"
   ]
  },
  {
   "cell_type": "markdown",
   "metadata": {},
   "source": [
    "## FactorizationMachine "
   ]
  },
  {
   "cell_type": "code",
   "execution_count": null,
   "metadata": {},
   "outputs": [],
   "source": [
    "from sklearn.model_selection import KFold\n",
    "\n",
    "from sklearn.metrics import mean_squared_error as MSE\n",
    "from sklearn.metrics import r2_score as R2\n",
    "\n",
    "def RMSE(y_test, y_pred):\n",
    "    return np.sqrt(MSE(y_test, y_pred))"
   ]
  },
  {
   "cell_type": "code",
   "execution_count": null,
   "metadata": {},
   "outputs": [],
   "source": [
    "X.shape, y.shape"
   ]
  },
  {
   "cell_type": "code",
   "execution_count": null,
   "metadata": {},
   "outputs": [],
   "source": [
    "class FactorizationMachine:\n",
    "\n",
    "    def __init__(self,\n",
    "                 learning_rate=1e-4, epochs=1e4, min_weight_dist=1e-4, factors_num=2,\n",
    "                 weight=None, factor=None, error=None):\n",
    "        self.learning_rate = learning_rate\n",
    "        self.epochs = epochs\n",
    "        self.min_weight_dist = min_weight_dist\n",
    "        self.factors_num = factors_num\n",
    "        self.weight = weight\n",
    "        self.factor = factor\n",
    "        self.error = error\n",
    "        \n",
    "\n",
    "    def predict(self, X, w=None, factor=None):\n",
    "        if w is None:\n",
    "            w = self.weight\n",
    "        if factor is None:\n",
    "            factor = self.factor\n",
    "\n",
    "        return X.dot(w) + (np.sum(np.square(X.dot(factor)), axis=1).reshape(-1, 1) - np.sum(X.power(2).dot(np.square(factor)),axis=1).reshape(-1, 1)) / 2\n",
    "\n",
    "    \n",
    "    def fit(self, X, y):\n",
    "        self.weight = np.zeros((X.shape[1], 1))\n",
    "        self.factor = np.zeros((X.shape[1], self.factors_num))\n",
    "        self.error = []\n",
    "        \n",
    "        w_next = self.weight\n",
    "        f_next = self.factor\n",
    "\n",
    "        i = 0\n",
    "        while (i < self.epochs):\n",
    "            D_weight = (2 * self.learning_rate / len(y)) * X.T.dot(y - X.dot(self.weight))\n",
    "            w_next += D_weight\n",
    "\n",
    "            precomputation = X.dot(self.factor)\n",
    "            self.weight = w_next\n",
    "            y_pred = self.predict(X)\n",
    "            for j in range(f_next.shape[1]):\n",
    "                a = diags(np.array(precomputation)[:, j]).dot(X)\n",
    "                b = X.power(2).dot(diags(f_next[:, j]))\n",
    "\n",
    "                f_next[:, j] += (2 * self.learning_rate / X.shape[1]) * (a - b).T.dot(y - y_pred).reshape((-1,))\n",
    "            D_factor = f_next - self.factor\n",
    "            self.factor = f_next\n",
    "            self.error += MSE(y, y_pred)\n",
    "\n",
    "            i += 1"
   ]
  },
  {
   "cell_type": "code",
   "execution_count": null,
   "metadata": {},
   "outputs": [],
   "source": [
    "learning_rate=5e-2\n",
    "min_weight_dist=1e-4\n",
    "epochs = 1000\n",
    "\n",
    "\n",
    "model_factorization = FactorizationMachine(epochs=epochs, learning_rate=learning_rate, min_weight_dist=min_weight_dist)\n",
    "\n",
    "model_weight = []\n",
    "model_factor = []\n",
    "model_error = []\n",
    "\n",
    "MSE_train = []\n",
    "MSE_test  = []\n",
    "RMSE_train = []\n",
    "RMSE_test  = []\n",
    "R2_train  = []\n",
    "R2_test   = []\n",
    "\n",
    "kf = KFold(n_splits=5)\n",
    "kf.get_n_splits(X)\n",
    "for train_index, test_index in tqdm(kf.split(X)):\n",
    "    X_train = X[train_index]\n",
    "    y_train = y[train_index]\n",
    "    X_test = X[test_index]\n",
    "    y_test = y[test_index]\n",
    "    \n",
    "    model_factorization.fit(X_train, y_train)\n",
    "    model_weight += [model_factorization.weight] \n",
    "    model_factor += [model_factorization.factor]\n",
    "    model_error += [model_error]\n",
    "    y_train_pred = model_factorization.predict(X_train)\n",
    "    y_test_pred = model_factorization.predict(X_test)\n",
    "    \n",
    "    MSE_train += [MSE(y_train, y_train_pred)]\n",
    "    MSE_test += [MSE(y_test, y_test_pred)]\n",
    "    RMSE_train += [RMSE(y_train, y_train_pred)]\n",
    "    RMSE_test += [RMSE(y_test, y_test_pred)]\n",
    "    R2_train += [R2(y_train, y_train_pred)]\n",
    "    R2_test += [R2(y_test, y_test_pred)]"
   ]
  },
  {
   "cell_type": "code",
   "execution_count": null,
   "metadata": {},
   "outputs": [],
   "source": [
    "for error in model_error:\n",
    "    plot(range(len(error)), error)\n",
    "    xlabel('Iteration')\n",
    "    ylabel('MSE')"
   ]
  },
  {
   "cell_type": "code",
   "execution_count": null,
   "metadata": {},
   "outputs": [],
   "source": [
    "columns = [\"Names\"]\n",
    "columns += [f'T{i + 1}' for i in range(number_of_splits)]\n",
    "columns += [\"Mean\"]\n",
    "columns += [\"Std\"]\n",
    "\n",
    "rows =  ['MSE Train', 'MSE Test', 'RMSE Train', 'RMSE Test', 'R2 Train', 'R2 Test']\n",
    "rows += [f\"Feature {i + 1}\" for i in range(len(weights[0]))]"
   ]
  },
  {
   "cell_type": "code",
   "execution_count": null,
   "metadata": {},
   "outputs": [],
   "source": [
    "result_dataframe = pd.DataFrame(columns=columns)\n",
    "result_dataframe[\"Names\"] = rows\n",
    "result_dataframe.set_index(\"Names\", inplace=True)\n",
    "\n",
    "for i in range(number_of_splits):\n",
    "    data = np.concatenate(([MSE_train[i], MSE_test[i], RMSE_train[i], RMSE_test[i], R2_train[i], R2_test[i]], model_weight[i].reshape((-1,))))\n",
    "    result_dataframe[f\"T{i + 1}\"] = data\n",
    "\n",
    "result_dataframe[\"Mean\"] = result_dataframe.mean(axis=1)\n",
    "result_dataframe[\"Std\"] = result_dataframe.std(axis=1)"
   ]
  },
  {
   "cell_type": "code",
   "execution_count": null,
   "metadata": {},
   "outputs": [],
   "source": [
    "result_dataframe"
   ]
  },
  {
   "cell_type": "code",
   "execution_count": null,
   "metadata": {},
   "outputs": [],
   "source": []
  }
 ],
 "metadata": {
  "kernelspec": {
   "display_name": "Python 3",
   "language": "python",
   "name": "python3"
  },
  "language_info": {
   "codemirror_mode": {
    "name": "ipython",
    "version": 3
   },
   "file_extension": ".py",
   "mimetype": "text/x-python",
   "name": "python",
   "nbconvert_exporter": "python",
   "pygments_lexer": "ipython3",
   "version": "3.7.3"
  }
 },
 "nbformat": 4,
 "nbformat_minor": 2
}
